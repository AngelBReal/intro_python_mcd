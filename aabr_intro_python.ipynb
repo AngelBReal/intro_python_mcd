{
  "cells": [
    {
      "cell_type": "markdown",
      "metadata": {
        "id": "view-in-github",
        "colab_type": "text"
      },
      "source": [
        "<a href=\"https://colab.research.google.com/github/AngelBReal/intro_python_mcd/blob/main/aabr_intro_python.ipynb\" target=\"_parent\"><img src=\"https://colab.research.google.com/assets/colab-badge.svg\" alt=\"Open In Colab\"/></a>"
      ]
    },
    {
      "cell_type": "markdown",
      "metadata": {
        "id": "QSGOS1YgNxG-"
      },
      "source": [
        "<a href=\"https://colab.research.google.com/github/mcd-unison/material-programacion/blob/main/intro-python.ipynb\" target=\"_parent\"><img src=\"https://colab.research.google.com/assets/colab-badge.svg\" alt=\"Open In Colab\"/></a>"
      ]
    },
    {
      "cell_type": "markdown",
      "metadata": {
        "id": "3yV7g-KQNxHC"
      },
      "source": [
        "<center>\n",
        "<p><img src=\"https://mcd.unison.mx/wp-content/themes/awaken/img/logo_mcd.png\" width=\"100\">\n",
        "</p>\n",
        "\n",
        "\n",
        "\n",
        "# Curso Propedéutico en *Programación*\n",
        "\n",
        "## Introducción a `python` resolviendo preguntas\n",
        "\n",
        "\n",
        "**Julio Waissman Vilanova**\n",
        "\n"
      ]
    },
    {
      "cell_type": "markdown",
      "metadata": {
        "id": "GnJkwqjvNxHG"
      },
      "source": [
        "### Tipos\n",
        "\n",
        "¿Cuales son los tipos de datos básicos? Revisa los tipos siguientes:\n",
        "\n",
        "1. Tipos numéricos `int`, `float`, `complex`\n",
        "2. Cadenas de caracteres\n",
        "3. Tuplas\n",
        "4. Listas\n",
        "5. Diccionarios\n",
        "6. Conjuntos\n",
        "\n",
        "Da ejemplo de sobrecarga de operadores (en particular `+` y `*`)\n",
        "\n"
      ]
    },
    {
      "cell_type": "code",
      "execution_count": 4,
      "metadata": {
        "id": "wy_Ysz8HNxHH",
        "outputId": "dd8d506e-137f-4842-d12d-402d2f4d33a6",
        "colab": {
          "base_uri": "https://localhost:8080/"
        }
      },
      "outputs": [
        {
          "output_type": "stream",
          "name": "stdout",
          "text": [
            "(2, 3, 4, 5)\n",
            "(2, 3, 2, 3, 2, 3)\n"
          ]
        }
      ],
      "source": [
        "v1 = (2, 3)\n",
        "v2 = (4, 5)\n",
        "\n",
        "# Sobrecarga del operador +\n",
        "v3 = v1 + v2\n",
        "print(v3)\n",
        "\n",
        "# Sobrecarga del operador *\n",
        "v4 = v1 * 3\n",
        "print(v4)"
      ]
    },
    {
      "cell_type": "markdown",
      "metadata": {
        "id": "FWMv3brANxHI"
      },
      "source": [
        "¿Que significa que unos tipos sean *mutables* y otros *inmutables*?\n",
        "\n",
        "Realiza un pequeño programa donde quede claro lo que significa que un tipo de datos sea mutable, e ilustra el uso del método `copy.deepcopy()`."
      ]
    },
    {
      "cell_type": "code",
      "execution_count": 5,
      "metadata": {
        "id": "jNDDZFJ_NxHJ",
        "outputId": "72c62ffa-29a5-46df-e20b-c8fcf31a6d35",
        "colab": {
          "base_uri": "https://localhost:8080/"
        }
      },
      "outputs": [
        {
          "output_type": "stream",
          "name": "stdout",
          "text": [
            "Tipos inmutables:\n",
            "a: 10, b: 15\n",
            "list1: [1, 2, 3, 4], list2: [1, 2, 3, 4]\n",
            "Uso de deepcopy:\n",
            "list1: [1, 2, 3, 4], list3: [1, 2, 3, 4, 5]\n"
          ]
        }
      ],
      "source": [
        "import copy\n",
        "\n",
        "a = 10\n",
        "b = a\n",
        "b += 5\n",
        "print(\"Tipos inmutables:\")\n",
        "print(f\"a: {a}, b: {b}\")\n",
        "\n",
        "list1 = [1, 2, 3]\n",
        "list2 = list1\n",
        "list2.append(4)\n",
        "print(f\"list1: {list1}, list2: {list2}\")\n",
        "\n",
        "list3 = copy.deepcopy(list1)\n",
        "list3.append(5)\n",
        "print(\"Uso de deepcopy:\")\n",
        "print(f\"list1: {list1}, list3: {list3}\")"
      ]
    },
    {
      "cell_type": "markdown",
      "metadata": {
        "id": "SJ_EFiebNxHJ"
      },
      "source": [
        "### *Comprehension* de listas, conjuntos y diccionarios\n",
        "\n",
        "Escribe, en una sola linea, una expresión que genere una lista con todos los números enteros que se encuentran entre $1$ y $n$\n",
        "que sean divisibles por $3$ y $7$ y que el dígito menos significativo del número sea $6$."
      ]
    },
    {
      "cell_type": "code",
      "execution_count": 6,
      "metadata": {
        "id": "O1n5Y0-RNxHK",
        "outputId": "c192e94b-d60b-4481-e09b-b75e355ce08a",
        "colab": {
          "base_uri": "https://localhost:8080/"
        }
      },
      "outputs": [
        {
          "output_type": "stream",
          "name": "stdout",
          "text": [
            "[126, 336, 546, 756, 966, 1176, 1386, 1596, 1806, 2016, 2226, 2436, 2646, 2856, 3066, 3276, 3486, 3696, 3906, 4116, 4326, 4536, 4746, 4956, 5166, 5376, 5586, 5796, 6006, 6216, 6426, 6636, 6846, 7056, 7266, 7476, 7686, 7896, 8106, 8316, 8526, 8736, 8946, 9156, 9366, 9576, 9786, 9996]\n"
          ]
        }
      ],
      "source": [
        "n = 10_000\n",
        "\n",
        "result = [i for i in range(1, n+1) if i % 3 == 0 and i % 7 == 0 and str(i)[-1] == '6']\n",
        "print(result)"
      ]
    },
    {
      "cell_type": "markdown",
      "metadata": {
        "id": "AHRYe05RNxHL"
      },
      "source": [
        "### Funciones\n",
        "\n",
        "Escribe una función que:\n",
        "\n",
        "1. reciba una lista de elementos (letras, números, lo que sea),\n",
        "2. cuente la ocurrencia de cada elemento en la lista,\n",
        "3. devuelva las ocurrencias en forma de diccionario,\n",
        "4. si imprime es True, imprima un histograma de ocurrencias, por ejemplo:\n",
        "\n",
        "```python\n",
        "\n",
        "lista = [1,'a',1, 13, 'hola', 'a', 1, 1, 'a', 1]\n",
        "\n",
        "d = funcion_ejemplo(lista, imprime = True)\n",
        "\n",
        "1    \t\t***** \t(5 -> 50%)\n",
        "'a'  \t\t***   \t(3 -> 30%)\n",
        "13\t\t*\t(1 -> 10%)\n",
        "'hola'\t\t*\t(1 -> 10%)\n",
        "\n",
        "```"
      ]
    },
    {
      "cell_type": "code",
      "execution_count": 7,
      "metadata": {
        "id": "MoRgJAQhNxHL"
      },
      "outputs": [],
      "source": [
        "# Escribe la función aquí\n",
        "def funcion_ejemplo(lista, imprime=False):\n",
        "    ocurrencias = {}\n",
        "    for elemento in lista:\n",
        "        if elemento in ocurrencias:\n",
        "            ocurrencias[elemento] += 1\n",
        "        else:\n",
        "            ocurrencias[elemento] = 1\n",
        "\n",
        "    if imprime:\n",
        "        total = len(lista)\n",
        "        for elem, count in ocurrencias.items():\n",
        "            porcentaje = (count / total) * 100\n",
        "            print(f\"{str(elem):<10} {'*' * count}     ({count} -> {porcentaje:.0f}%)\")\n",
        "\n",
        "    return ocurrencias\n"
      ]
    },
    {
      "cell_type": "code",
      "execution_count": 8,
      "metadata": {
        "id": "xQv66zO7NxHL",
        "outputId": "ceebb833-ce99-47ba-ab6d-58edd0f631bf",
        "colab": {
          "base_uri": "https://localhost:8080/"
        }
      },
      "outputs": [
        {
          "output_type": "stream",
          "name": "stdout",
          "text": [
            "1          *****     (5 -> 50%)\n",
            "a          ***     (3 -> 30%)\n",
            "13         *     (1 -> 10%)\n",
            "hola       *     (1 -> 10%)\n",
            "{1: 5, 'a': 3, 13: 1, 'hola': 1}\n"
          ]
        }
      ],
      "source": [
        "# Realiza pruebas aquí\n",
        "lista = [1,'a',1, 13, 'hola', 'a', 1, 1, 'a', 1]\n",
        "d = funcion_ejemplo(lista, imprime = True)\n",
        "print(d)"
      ]
    },
    {
      "cell_type": "markdown",
      "metadata": {
        "id": "A5bFJDoHNxHM"
      },
      "source": [
        "Escribe una función que modifique un diccionario y regrese el diccionario modificado y una copia del original, donde cada entrada\n",
        "del diccionario sea una lista de valores. Ten en cuenta que si una entrada del diccionario es de tipo mutable, al modificarlo en la\n",
        "copia se modifica el original. Utiliza el modulo `copy` para evitar este problema. Ejemplo de la función:\n",
        "\n",
        "```python\n",
        "dic1 = {'Pepe':[12, 'enero', 1980], 'Carolina':[15,'mayo',1975],'Paco':[10,'nov',1970]}\n",
        "dic2 = fundicos(dic1, 'Pepe', 1, 'febrero')\n",
        "\n",
        "print(dic1)\n",
        "{'Pepe':[12, 'enero', 1980], 'Carolina':[15,'mayo',1975],'Paco':[10,'nov',1970]}\n",
        "\n",
        "print(dic2)\n",
        "{'Pepe':[12, 'febrero', 1980], 'Carolina':[15,'mayo',1975],'Paco':[10,'nov',1970]}\n",
        "```"
      ]
    },
    {
      "cell_type": "code",
      "execution_count": 9,
      "metadata": {
        "id": "s-exLJmYNxHM"
      },
      "outputs": [],
      "source": [
        "# Escribe la función fundicos aquí\n",
        "import copy\n",
        "\n",
        "def fundicos(dic, key, index, new_value):\n",
        "    dic_original = copy.deepcopy(dic)\n",
        "    if key in dic and 0 <= index < len(dic[key]):\n",
        "        dic[key][index] = new_value\n",
        "\n",
        "    return dic_original, dic"
      ]
    },
    {
      "cell_type": "code",
      "execution_count": 10,
      "metadata": {
        "id": "UfPWtflfNxHN",
        "outputId": "172c6194-7b25-40b3-9829-cdfec8f2e46d",
        "colab": {
          "base_uri": "https://localhost:8080/"
        }
      },
      "outputs": [
        {
          "output_type": "stream",
          "name": "stdout",
          "text": [
            "{'Pepe': [12, 'febrero', 1980], 'Carolina': [15, 'mayo', 1975], 'Paco': [10, 'nov', 1970]}\n",
            "({'Pepe': [12, 'enero', 1980], 'Carolina': [15, 'mayo', 1975], 'Paco': [10, 'nov', 1970]}, {'Pepe': [12, 'febrero', 1980], 'Carolina': [15, 'mayo', 1975], 'Paco': [10, 'nov', 1970]})\n"
          ]
        }
      ],
      "source": [
        "# Realiza pruebas de fundicos aquí\n",
        "dic1 = {'Pepe':[12, 'enero', 1980], 'Carolina':[15,'mayo',1975],'Paco':[10,'nov',1970]}\n",
        "dic2 = fundicos(dic1, 'Pepe', 1, 'febrero')\n",
        "\n",
        "print(dic1)\n",
        "print(dic2)"
      ]
    },
    {
      "cell_type": "markdown",
      "metadata": {
        "id": "CKxsu2WVNxHN"
      },
      "source": [
        "### Generadores\n",
        "\n",
        "Escribe un generador que reciba una lista y genere todas las permutaciones que se puedan hacer con los elementos de la lista"
      ]
    },
    {
      "cell_type": "code",
      "execution_count": 11,
      "metadata": {
        "id": "EU4O1bF5NxHN"
      },
      "outputs": [],
      "source": [
        "# Escribe aqui fun1\n",
        "\n",
        "def permutaciones(lista):\n",
        "    \"\"\"\n",
        "    Permutaciones de los elementos de una lista.\n",
        "\n",
        "    Devuelve un generador con todas las permutaciones posibles de los elementos de la lista de entrada\n",
        "    \"\"\"\n",
        "    if len(lista) == 0:\n",
        "        yield []\n",
        "    else:\n",
        "        for i in range(len(lista)):\n",
        "            elem = lista[i]\n",
        "            resto = lista[:i] + lista[i+1:]\n",
        "            for p in permutaciones(resto):\n",
        "                yield [elem] + p"
      ]
    },
    {
      "cell_type": "code",
      "execution_count": 12,
      "metadata": {
        "id": "5EgWtGtpNxHN",
        "outputId": "8b789689-2328-4a01-ebf7-75462cb94708",
        "colab": {
          "base_uri": "https://localhost:8080/"
        }
      },
      "outputs": [
        {
          "output_type": "stream",
          "name": "stdout",
          "text": [
            "['a', 'b', 'c', 'd']\n",
            "['a', 'b', 'd', 'c']\n",
            "['a', 'c', 'b', 'd']\n",
            "['a', 'c', 'd', 'b']\n",
            "['a', 'd', 'b', 'c']\n",
            "['a', 'd', 'c', 'b']\n",
            "['b', 'a', 'c', 'd']\n",
            "['b', 'a', 'd', 'c']\n",
            "['b', 'c', 'a', 'd']\n",
            "['b', 'c', 'd', 'a']\n",
            "['b', 'd', 'a', 'c']\n",
            "['b', 'd', 'c', 'a']\n",
            "['c', 'a', 'b', 'd']\n",
            "['c', 'a', 'd', 'b']\n",
            "['c', 'b', 'a', 'd']\n",
            "['c', 'b', 'd', 'a']\n",
            "['c', 'd', 'a', 'b']\n",
            "['c', 'd', 'b', 'a']\n",
            "['d', 'a', 'b', 'c']\n",
            "['d', 'a', 'c', 'b']\n",
            "['d', 'b', 'a', 'c']\n",
            "['d', 'b', 'c', 'a']\n",
            "['d', 'c', 'a', 'b']\n",
            "['d', 'c', 'b', 'a']\n"
          ]
        }
      ],
      "source": [
        "# Realiza pruebas de fun2 aquí\n",
        "for p in permutaciones(['a', 'b', 'c', 'd']):\n",
        "    print(p)"
      ]
    },
    {
      "cell_type": "markdown",
      "metadata": {
        "id": "tX1JVeALNxHO"
      },
      "source": [
        "Ahora escribe una funcipn que reciba 4 digitos del 0 al 9, y devuelva una lista con todas las horas váidas que se puedan hacer con estos dígitos en forma de lista de strings con la forma `\"HH:MM\"`."
      ]
    },
    {
      "cell_type": "code",
      "execution_count": 13,
      "metadata": {
        "id": "vaD7L8k-NxHO"
      },
      "outputs": [],
      "source": [
        "def generar_horas_validas(digitos):\n",
        "    def permutaciones(lista):\n",
        "        if len(lista) == 0:\n",
        "            yield []\n",
        "        else:\n",
        "            for i in range(len(lista)):\n",
        "                elem = lista[i]\n",
        "                resto = lista[:i] + lista[i+1:]\n",
        "                for p in permutaciones(resto):\n",
        "                    yield [elem] + p\n",
        "\n",
        "    horas_validas = []\n",
        "\n",
        "    for p in permutaciones(digitos):\n",
        "        h1, h2, m1, m2 = p\n",
        "        hora = h1 * 10 + h2\n",
        "        minuto = m1 * 10 + m2\n",
        "        if 0 <= hora < 24 and 0 <= minuto < 60:\n",
        "            horas_validas.append(f\"{h1}{h2}:{m1}{m2}\")\n",
        "\n",
        "    return horas_validas"
      ]
    },
    {
      "cell_type": "markdown",
      "metadata": {
        "id": "wklySVjZNxHO"
      },
      "source": [
        "Validando:"
      ]
    },
    {
      "cell_type": "code",
      "execution_count": 14,
      "metadata": {
        "id": "V-GaHzoENxHO",
        "outputId": "2f504ff7-8042-45ad-877e-10284740f19b",
        "colab": {
          "base_uri": "https://localhost:8080/"
        }
      },
      "outputs": [
        {
          "output_type": "stream",
          "name": "stdout",
          "text": [
            "['12:34', '12:43', '13:24', '13:42', '14:23', '14:32', '21:34', '21:43', '23:14', '23:41']\n"
          ]
        }
      ],
      "source": [
        "print(generar_horas_validas([1,2,3,4]))"
      ]
    },
    {
      "cell_type": "markdown",
      "metadata": {
        "id": "PyXVDrM-NxHO"
      },
      "source": [
        "Escribe una función, lo más compacta posible, que escoja entre los 3 patrones ascii a continuación, e imprima en pantalla\n",
        "el deseado, pero de dimensión $n$ ($n \\ge 4$), toma en cuanta que para algunos valores de $n$ habrá\n",
        "algún(os) patrones que no se puedan hacer.\n",
        "\n",
        "```\n",
        "          *             ++++           oooooooo\n",
        "          **            ++++           ooo  ooo\n",
        "          ***           ++++           oo    oo\n",
        "          ****          ++++           o      o\n",
        "          *****             ++++       o      o\n",
        "          ******            ++++       oo    oo\n",
        "          *******           ++++       ooo  ooo\n",
        "          ********          ++++       oooooooo\n",
        "\n",
        "```"
      ]
    },
    {
      "cell_type": "code",
      "execution_count": 15,
      "metadata": {
        "id": "2AC9NImdNxHP"
      },
      "outputs": [],
      "source": [
        "# Escribe aquí la función\n",
        "def imprimir_patron(n, patron):\n",
        "    if n < 4:\n",
        "        return \"n debe ser mayor o igual a 4\"\n",
        "\n",
        "    if patron == 1:  # asteriscos\n",
        "        for i in range(n):\n",
        "            print('*' * (i + 1))\n",
        "    elif patron == 2:  # signos más\n",
        "        for _ in range(n):\n",
        "            print('+' * 4)\n",
        "    elif patron == 3 and n % 2 == 0:  #'o'\n",
        "        print('o' * n)\n",
        "        for i in range(1, n // 2):\n",
        "            print('o' * (n // 2 - i) + ' ' * (2 * i) + 'o' * (n // 2 - i))\n",
        "        for i in range(n // 2, 0, -1):\n",
        "            print('o' * i + ' ' * (n - 2 * i) + 'o' * i)\n",
        "        print('o' * n)"
      ]
    },
    {
      "cell_type": "code",
      "execution_count": 16,
      "metadata": {
        "id": "Pyz6gvSPNxHP",
        "outputId": "1a4b8625-2b72-4842-df29-9aeeb2c76dcd",
        "colab": {
          "base_uri": "https://localhost:8080/"
        }
      },
      "outputs": [
        {
          "output_type": "stream",
          "name": "stdout",
          "text": [
            "*\n",
            "**\n",
            "***\n",
            "****\n",
            "*****\n",
            "******\n",
            "*******\n",
            "********\n",
            "\n",
            "++++\n",
            "++++\n",
            "++++\n",
            "++++\n",
            "++++\n",
            "++++\n",
            "++++\n",
            "++++\n",
            "\n",
            "oooooooo\n",
            "ooo  ooo\n",
            "oo    oo\n",
            "o      o\n",
            "oooooooo\n",
            "ooo  ooo\n",
            "oo    oo\n",
            "o      o\n",
            "oooooooo\n"
          ]
        }
      ],
      "source": [
        "#Realiza pruebas aquí\n",
        "imprimir_patron(8, 1)  # Patrón de asteriscos con n = 8\n",
        "print()\n",
        "imprimir_patron(8, 2)  # Patrón de signos más con n = 8\n",
        "print()\n",
        "imprimir_patron(8, 3)  # Patrón de 'o's con n = 8"
      ]
    },
    {
      "cell_type": "markdown",
      "metadata": {
        "id": "SQWP7R_gNxHP"
      },
      "source": [
        "### Clases y objetos\n",
        "\n",
        "Diseña una clase Matriz con las siguientes características:\n",
        "\n",
        "1. Como inicialización de un objeto es necesario conocer $n$, $m$ y tipo. En caso de no proporcionar $m$ la matriz se asume cuadrada de $n \\times n$. En caso de no proporcionar $n$ la matriz tendrá una dimensión de $1 \\times 1$.\n",
        "2. De no especificarse todos los elementos se inicializan a 0, a menos que exista un tipo especial ( `unos` o `diag` por el momento).\n",
        "3. Implementa con sobrecarga la suma de matrices, la multiplicación de matrices y la multiplicación por un escalar.\n",
        "4. Implementa como métodos eliminar columna y eliminar fila.   \n",
        "5. Programa la representación visual de la matriz.\n",
        "6. Ten en cuenta tambien el manejo de errores.\n",
        "\n",
        "\n",
        "Ejemplo de uso:\n",
        "\n",
        "```\n",
        ">>> A = Matriz(n=3, m=4)\n",
        "\n",
        ">>> print(A)\n",
        "0 0 0 0\n",
        "0 0 0 0\n",
        "0 0 0 0\n",
        "\n",
        ">>> A = A.quitafila(2)\n",
        "\n",
        ">>> print(A)\n",
        "0 0 0 0\n",
        "0 0 0 0\n",
        "\n",
        ">>> B = Matriz(4,4,'diag')\n",
        "\n",
        ">>> print(B)\n",
        "1 0 0 0\n",
        "0 1 0 0\n",
        "0 0 1 0\n",
        "0 0 0 1\n",
        "\n",
        ">>> C = Matriz(4,1,'unos')\n",
        "\n",
        ">>> print(C)\n",
        "1\n",
        "1\n",
        "1\n",
        "1\n",
        "\n",
        ">>> D = 3 * B * C\n",
        "\n",
        ">>> print(D)\n",
        "3\n",
        "3\n",
        "3\n",
        "3\n",
        "\n",
        ">>> E = 3 * B + C\n",
        "error \"No seas menso, si no son de la misma dimensión las matrices no se pueden sumar\"\n",
        "```"
      ]
    },
    {
      "cell_type": "code",
      "execution_count": 17,
      "metadata": {
        "id": "WETASijVNxHP"
      },
      "outputs": [],
      "source": [
        "# Desarrolla aqui la clase\n",
        "class Matriz:\n",
        "    def __init__(self, n=1, m=None, tipo=None):\n",
        "        self.n = n\n",
        "        self.m = m if m is not None else n\n",
        "        self.tipo = tipo\n",
        "        self.matriz = self.inicializar_matriz()\n",
        "\n",
        "    def inicializar_matriz(self):\n",
        "        if self.tipo == 'unos':\n",
        "            return [[1 for _ in range(self.m)] for _ in range(self.n)]\n",
        "        elif self.tipo == 'diag':\n",
        "            return [[1 if i == j else 0 for j in range(self.m)] for i in range(self.n)]\n",
        "        else:\n",
        "            return [[0 for _ in range(self.m)] for _ in range(self.n)]\n",
        "\n",
        "    def __repr__(self):\n",
        "        return '\\n'.join([' '.join(map(str, row)) for row in self.matriz])\n",
        "\n",
        "    def __add__(self, other):\n",
        "        if self.n != other.n or self.m != other.m:\n",
        "            raise ValueError(\"No seas menso, si no son de la misma dimensión las matrices no se pueden sumar\")\n",
        "        resultado = Matriz(self.n, self.m)\n",
        "        for i in range(self.n):\n",
        "            for j in range(self.m):\n",
        "                resultado.matriz[i][j] = self.matriz[i][j] + other.matriz[i][j]\n",
        "        return resultado\n",
        "\n",
        "    def __mul__(self, other):\n",
        "        if isinstance(other, Matriz):\n",
        "            if self.m != other.n:\n",
        "                raise ValueError(\"No se pueden multiplicar, dimensiones no coinciden\")\n",
        "            resultado = Matriz(self.n, other.m)\n",
        "            for i in range(self.n):\n",
        "                for j in range(other.m):\n",
        "                    resultado.matriz[i][j] = sum(self.matriz[i][k] * other.matriz[k][j] for k in range(self.m))\n",
        "            return resultado\n",
        "        else:  # other es un escalar\n",
        "            resultado = Matriz(self.n, self.m)\n",
        "            for i in range(self.n):\n",
        "                for j in range(self.m):\n",
        "                    resultado.matriz[i][j] = self.matriz[i][j] * other\n",
        "            return resultado\n",
        "\n",
        "    def __rmul__(self, other):\n",
        "        return self * other\n",
        "\n",
        "    def quitafila(self, fila):\n",
        "        if fila < 0 or fila >= self.n:\n",
        "            raise IndexError(\"Índice de fila fuera de rango\")\n",
        "        nueva_matriz = Matriz(self.n - 1, self.m)\n",
        "        nueva_matriz.matriz = self.matriz[:fila] + self.matriz[fila + 1:]\n",
        "        return nueva_matriz\n",
        "\n",
        "    def quitacolumna(self, columna):\n",
        "        if columna < 0 or columna >= self.m:\n",
        "            raise IndexError(\"Índice de columna fuera de rango\")\n",
        "        nueva_matriz = Matriz(self.n, self.m - 1)\n",
        "        for i in range(self.n):\n",
        "            nueva_matriz.matriz[i] = self.matriz[i][:columna] + self.matriz[i][columna + 1:]\n",
        "        return nueva_matriz"
      ]
    },
    {
      "cell_type": "code",
      "execution_count": 18,
      "metadata": {
        "id": "bI2i_lx2NxHP",
        "outputId": "1b79a9ad-a759-4ce8-99f0-0ee4013b0f80",
        "colab": {
          "base_uri": "https://localhost:8080/",
          "height": 610
        }
      },
      "outputs": [
        {
          "output_type": "stream",
          "name": "stdout",
          "text": [
            "A = 0 0 0 0\n",
            "0 0 0 0\n",
            "0 0 0 0\n",
            "A =  0 0 0 0\n",
            "0 0 0 0\n",
            "B =  1 0 0 0\n",
            "0 1 0 0\n",
            "0 0 1 0\n",
            "0 0 0 1\n",
            "C = 1\n",
            "1\n",
            "1\n",
            "1\n",
            "D =  3\n",
            "3\n",
            "3\n",
            "3\n"
          ]
        },
        {
          "output_type": "error",
          "ename": "ValueError",
          "evalue": "No seas menso, si no son de la misma dimensión las matrices no se pueden sumar",
          "traceback": [
            "\u001b[0;31m---------------------------------------------------------------------------\u001b[0m",
            "\u001b[0;31mValueError\u001b[0m                                Traceback (most recent call last)",
            "\u001b[0;32m<ipython-input-18-8e6d3444aee0>\u001b[0m in \u001b[0;36m<cell line: 18>\u001b[0;34m()\u001b[0m\n\u001b[1;32m     16\u001b[0m \u001b[0mprint\u001b[0m\u001b[0;34m(\u001b[0m\u001b[0;34m'D = '\u001b[0m\u001b[0;34m,\u001b[0m \u001b[0mD\u001b[0m\u001b[0;34m)\u001b[0m\u001b[0;34m\u001b[0m\u001b[0;34m\u001b[0m\u001b[0m\n\u001b[1;32m     17\u001b[0m \u001b[0;34m\u001b[0m\u001b[0m\n\u001b[0;32m---> 18\u001b[0;31m \u001b[0mE\u001b[0m \u001b[0;34m=\u001b[0m \u001b[0;36m3\u001b[0m \u001b[0;34m*\u001b[0m \u001b[0mB\u001b[0m \u001b[0;34m+\u001b[0m \u001b[0mC\u001b[0m\u001b[0;34m\u001b[0m\u001b[0;34m\u001b[0m\u001b[0m\n\u001b[0m\u001b[1;32m     19\u001b[0m \u001b[0mprint\u001b[0m\u001b[0;34m(\u001b[0m\u001b[0;34m'E = '\u001b[0m\u001b[0;34m,\u001b[0m \u001b[0mE\u001b[0m\u001b[0;34m)\u001b[0m\u001b[0;34m\u001b[0m\u001b[0;34m\u001b[0m\u001b[0m\n",
            "\u001b[0;32m<ipython-input-17-30137f5ec637>\u001b[0m in \u001b[0;36m__add__\u001b[0;34m(self, other)\u001b[0m\n\u001b[1;32m     20\u001b[0m     \u001b[0;32mdef\u001b[0m \u001b[0m__add__\u001b[0m\u001b[0;34m(\u001b[0m\u001b[0mself\u001b[0m\u001b[0;34m,\u001b[0m \u001b[0mother\u001b[0m\u001b[0;34m)\u001b[0m\u001b[0;34m:\u001b[0m\u001b[0;34m\u001b[0m\u001b[0;34m\u001b[0m\u001b[0m\n\u001b[1;32m     21\u001b[0m         \u001b[0;32mif\u001b[0m \u001b[0mself\u001b[0m\u001b[0;34m.\u001b[0m\u001b[0mn\u001b[0m \u001b[0;34m!=\u001b[0m \u001b[0mother\u001b[0m\u001b[0;34m.\u001b[0m\u001b[0mn\u001b[0m \u001b[0;32mor\u001b[0m \u001b[0mself\u001b[0m\u001b[0;34m.\u001b[0m\u001b[0mm\u001b[0m \u001b[0;34m!=\u001b[0m \u001b[0mother\u001b[0m\u001b[0;34m.\u001b[0m\u001b[0mm\u001b[0m\u001b[0;34m:\u001b[0m\u001b[0;34m\u001b[0m\u001b[0;34m\u001b[0m\u001b[0m\n\u001b[0;32m---> 22\u001b[0;31m             \u001b[0;32mraise\u001b[0m \u001b[0mValueError\u001b[0m\u001b[0;34m(\u001b[0m\u001b[0;34m\"No seas menso, si no son de la misma dimensión las matrices no se pueden sumar\"\u001b[0m\u001b[0;34m)\u001b[0m\u001b[0;34m\u001b[0m\u001b[0;34m\u001b[0m\u001b[0m\n\u001b[0m\u001b[1;32m     23\u001b[0m         \u001b[0mresultado\u001b[0m \u001b[0;34m=\u001b[0m \u001b[0mMatriz\u001b[0m\u001b[0;34m(\u001b[0m\u001b[0mself\u001b[0m\u001b[0;34m.\u001b[0m\u001b[0mn\u001b[0m\u001b[0;34m,\u001b[0m \u001b[0mself\u001b[0m\u001b[0;34m.\u001b[0m\u001b[0mm\u001b[0m\u001b[0;34m)\u001b[0m\u001b[0;34m\u001b[0m\u001b[0;34m\u001b[0m\u001b[0m\n\u001b[1;32m     24\u001b[0m         \u001b[0;32mfor\u001b[0m \u001b[0mi\u001b[0m \u001b[0;32min\u001b[0m \u001b[0mrange\u001b[0m\u001b[0;34m(\u001b[0m\u001b[0mself\u001b[0m\u001b[0;34m.\u001b[0m\u001b[0mn\u001b[0m\u001b[0;34m)\u001b[0m\u001b[0;34m:\u001b[0m\u001b[0;34m\u001b[0m\u001b[0;34m\u001b[0m\u001b[0m\n",
            "\u001b[0;31mValueError\u001b[0m: No seas menso, si no son de la misma dimensión las matrices no se pueden sumar"
          ]
        }
      ],
      "source": [
        "# Realiza las pruebas a la clase aquí\n",
        "\n",
        "A = Matriz(n=3, m=4)\n",
        "print('A =', A)\n",
        "\n",
        "A = A.quitafila(2)\n",
        "print('A = ', A)\n",
        "\n",
        "B = Matriz(4,4,'diag')\n",
        "print('B = ', B)\n",
        "\n",
        "C = Matriz(4,1,'unos')\n",
        "print('C =', C)\n",
        "\n",
        "D = 3 * B * C\n",
        "print('D = ', D)\n",
        "\n",
        "E = 3 * B + C\n",
        "print('E = ', E)"
      ]
    }
  ],
  "metadata": {
    "kernelspec": {
      "display_name": "ing-caract",
      "language": "python",
      "name": "python3"
    },
    "language_info": {
      "codemirror_mode": {
        "name": "ipython",
        "version": 3
      },
      "file_extension": ".py",
      "mimetype": "text/x-python",
      "name": "python",
      "nbconvert_exporter": "python",
      "pygments_lexer": "ipython3",
      "version": "3.8.13"
    },
    "orig_nbformat": 4,
    "colab": {
      "provenance": [],
      "include_colab_link": true
    }
  },
  "nbformat": 4,
  "nbformat_minor": 0
}